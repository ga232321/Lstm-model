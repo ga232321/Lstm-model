{
 "cells": [
  {
   "cell_type": "markdown",
   "metadata": {
    "cellId": "lflwsnkha4ljgxe5lil4",
    "execution_id": "be26f565-0aef-466d-9b35-abdeea7dee7c",
    "pycharm": {
     "name": "#%% md\n"
    }
   },
   "source": [
    "# LSTM. Трансформер. Механизм внимания (ноутбук)\n",
    "\n",
    "> Завершим тему рекуррентных нейронных сетей. Начнем знакомство с архитектурой нейронных сетей Трансформер."
   ]
  },
  {
   "cell_type": "code",
   "execution_count": 1,
   "metadata": {
    "cellId": "k9o6g2eti35r0rjd4x1dl",
    "pycharm": {
     "name": "#%%\n"
    }
   },
   "outputs": [],
   "source": [
    "import torch\n",
    "import torch.nn as nn\n",
    "\n",
    "import matplotlib.pyplot as plt\n",
    "from IPython.display import clear_output"
   ]
  },
  {
   "cell_type": "markdown",
   "metadata": {
    "cellId": "n1210mogsynkhwbg7zkub",
    "execution_id": "55ba01d3-4724-4e8c-be1b-b4f7cf44f6d0",
    "pycharm": {
     "name": "#%% md\n"
    }
   },
   "source": [
    "## Данные"
   ]
  },
  {
   "cell_type": "code",
   "execution_count": 2,
   "metadata": {
    "cellId": "vyshd02sxbeab7f9tmqsg",
    "jupyter": {
     "outputs_hidden": false
    },
    "pycharm": {
     "name": "#%%\n"
    }
   },
   "outputs": [],
   "source": [
    "aneks = []\n",
    "\n",
    "with open('anek.txt', 'r', encoding='utf-8') as f:\n",
    "    aneks.extend(f.read().split('\\n'))"
   ]
  },
  {
   "cell_type": "code",
   "execution_count": 3,
   "metadata": {
    "pycharm": {
     "name": "#%%\n"
    }
   },
   "outputs": [
    {
     "data": {
      "text/plain": [
       "'Штирлиц спросил Кэт   Вы любите фильмы про любовь?   Бесспорно!  ответила Кэт.   А я с порно,  признался Штирлиц.'"
      ]
     },
     "execution_count": 3,
     "metadata": {},
     "output_type": "execute_result"
    }
   ],
   "source": [
    "aneks[0]"
   ]
  },
  {
   "cell_type": "code",
   "execution_count": 4,
   "metadata": {},
   "outputs": [],
   "source": [
    "vocabulary = ['_', '#', '<']  # sos, eos, pad\n",
    "vocabulary.extend('абвгдеёжзийклмнопрстуфхцчшщъыьэюя')\n",
    "vocabulary.extend('абвгдеёжзийклмнопрстуфхцчшщъыьэюя'.upper())\n",
    "vocabulary.extend('0123456789 ,.!?-')"
   ]
  },
  {
   "cell_type": "code",
   "execution_count": 5,
   "metadata": {},
   "outputs": [],
   "source": [
    "_idx2char = {i: char for i, char in enumerate(vocabulary)}\n",
    "_char2idx = {char: i for i, char in enumerate(vocabulary)}"
   ]
  },
  {
   "cell_type": "code",
   "execution_count": 6,
   "metadata": {},
   "outputs": [
    {
     "data": {
      "text/plain": [
       "'<'"
      ]
     },
     "execution_count": 6,
     "metadata": {},
     "output_type": "execute_result"
    }
   ],
   "source": [
    "_idx2char[2]"
   ]
  },
  {
   "cell_type": "code",
   "execution_count": 7,
   "metadata": {
    "pycharm": {
     "name": "#%%\n"
    }
   },
   "outputs": [],
   "source": [
    "class Vocabulary:\n",
    "    def __init__(self):\n",
    "        self.vocabulary = ['_', '#', '<']  # sos, eos, pad\n",
    "        self.vocabulary.extend('абвгдеёжзийклмнопрстуфхцчшщъыьэюя')\n",
    "        self.vocabulary.extend('абвгдеёжзийклмнопрстуфхцчшщъыьэюя'.upper())\n",
    "        self.vocabulary.extend('0123456789 ,.!?-')\n",
    "\n",
    "        self._idx2char = {i: char for i, char in enumerate(self.vocabulary)}\n",
    "        self._char2idx = {char: i for i, char in enumerate(self.vocabulary)}\n",
    "\n",
    "    def get_vocabulary(self):\n",
    "        return self.vocabulary\n",
    "\n",
    "    def idx2char(self, idx: int):\n",
    "        if idx not in self._idx2char:\n",
    "            return '<'\n",
    "\n",
    "        return self._idx2char[idx]#вернет символ по индексу\n",
    "\n",
    "    def char2idx(self, char: str):\n",
    "        if char not in self._char2idx:\n",
    "            return self.get_pad()\n",
    "\n",
    "        return self._char2idx[char]\n",
    "\n",
    "    def encode(self, text):\n",
    "        result = [self.char2idx(char) for char in text]\n",
    "\n",
    "        result = [self.get_sos()] + result + [self.get_eos()]\n",
    "\n",
    "        return result\n",
    "\n",
    "    def get_sos(self):\n",
    "        return self.char2idx('_')\n",
    "\n",
    "    def get_eos(self):\n",
    "        return self.char2idx('#')\n",
    "\n",
    "    def get_pad(self):\n",
    "        return self.char2idx('<')"
   ]
  },
  {
   "cell_type": "code",
   "execution_count": 8,
   "metadata": {
    "pycharm": {
     "name": "#%%\n"
    }
   },
   "outputs": [],
   "source": [
    "from torch.utils.data import Dataset\n",
    "\n",
    "\n",
    "class Anekdotes(Dataset):\n",
    "    def __init__(self, aneks):\n",
    "        self.aneks = aneks\n",
    "\n",
    "        self.vocab = Vocabulary()\n",
    "\n",
    "    def __getitem__(self, idx):\n",
    "        return torch.LongTensor(self.vocab.encode(self.aneks[idx])) # кодирует каждый символ в предложение + sos + end\n",
    "\n",
    "    def __len__(self):\n",
    "        return len(self.aneks)"
   ]
  },
  {
   "cell_type": "code",
   "execution_count": 9,
   "metadata": {
    "pycharm": {
     "name": "#%%\n"
    }
   },
   "outputs": [],
   "source": [
    "dataset = Anekdotes(aneks)"
   ]
  },
  {
   "cell_type": "code",
   "execution_count": 10,
   "metadata": {
    "pycharm": {
     "name": "#%%\n"
    }
   },
   "outputs": [
    {
     "data": {
      "text/plain": [
       "(tensor([ 0, 61, 22, 12, 20, 15, 12, 26, 79, 22, 18, 19, 12, 15, 79,  4, 23, 20,\n",
       "         10, 23, 13, 14, 23, 81, 79, 55, 18, 15, 32, 14, 18, 79, 27,  8, 20,  8,\n",
       "         11, 79,  7,  5,  3, 79, 27,  3, 21,  3, 79,  8, 16, 23, 79, 23,  7,  3,\n",
       "         15, 18, 21, 32, 79,  8,  8, 79, 23, 22, 18, 19, 12, 22, 32, 81,  1]),\n",
       " 71)"
      ]
     },
     "execution_count": 10,
     "metadata": {},
     "output_type": "execute_result"
    }
   ],
   "source": [
    "dataset[10], len(dataset[10])"
   ]
  },
  {
   "cell_type": "code",
   "execution_count": 11,
   "metadata": {
    "pycharm": {
     "name": "#%%\n"
    }
   },
   "outputs": [
    {
     "data": {
      "text/plain": [
       "('Штирлиц топил буржуйку. Только через два часа ему удалось ее утопить.', 69)"
      ]
     },
     "execution_count": 11,
     "metadata": {},
     "output_type": "execute_result"
    }
   ],
   "source": [
    "aneks[10], len(aneks[10])"
   ]
  },
  {
   "cell_type": "code",
   "execution_count": 12,
   "metadata": {
    "pycharm": {
     "name": "#%%\n"
    }
   },
   "outputs": [],
   "source": [
    "from torch.utils.data import random_split\n",
    "\n",
    "\n",
    "train_dataset, valid_dataset = random_split(dataset, (int(len(dataset) * 0.9), len(dataset) - int(len(dataset) * 0.9)))"
   ]
  },
  {
   "cell_type": "code",
   "execution_count": 13,
   "metadata": {},
   "outputs": [
    {
     "data": {
      "text/plain": [
       "torch.Size([3, 25, 300])"
      ]
     },
     "execution_count": 13,
     "metadata": {},
     "output_type": "execute_result"
    }
   ],
   "source": [
    ">>> from torch.nn.utils.rnn import pad_sequence\n",
    ">>> a = torch.ones(25, 300)\n",
    ">>> b = torch.ones(22, 300)\n",
    ">>> c = torch.ones(15, 300)\n",
    ">>> pad_sequence([a, b, c], batch_first=True).size()"
   ]
  },
  {
   "cell_type": "code",
   "execution_count": 14,
   "metadata": {
    "pycharm": {
     "name": "#%%\n"
    }
   },
   "outputs": [],
   "source": [
    "from torch.nn.utils.rnn import pad_sequence\n",
    "\n",
    "\n",
    "pad_idx = dataset.vocab.get_pad()\n",
    "\n",
    "# ограничим до 256 наши батчи\n",
    "def collate_fn(batch):\n",
    "    return pad_sequence([b[:256] for b in batch], padding_value=pad_idx, batch_first=True)"
   ]
  },
  {
   "cell_type": "code",
   "execution_count": 15,
   "metadata": {},
   "outputs": [],
   "source": [
    "import os\n",
    "os.environ[\"OMP_NUM_THREADS\"] = \"1\" \n",
    "os.environ[\"MKL_NUM_THREADS\"] = \"1\" \n",
    "os.environ[\"NCCL_P2P_DISABLE\"] = \"1\"\n",
    "#!#OMP_NUM_THREADS=1 MKL_NUM_THREADS=1 python Lecture_9_Intro_to_DL.ipynb"
   ]
  },
  {
   "cell_type": "code",
   "execution_count": 16,
   "metadata": {
    "pycharm": {
     "name": "#%%\n"
    }
   },
   "outputs": [],
   "source": [
    "from torch.utils.data import DataLoader\n",
    "\n",
    "\n",
    "train_loader = DataLoader(train_dataset, batch_size=256, collate_fn=collate_fn, pin_memory=True)\n",
    "valid_loader = DataLoader(valid_dataset, batch_size=256, collate_fn=collate_fn, pin_memory=True)"
   ]
  },
  {
   "cell_type": "markdown",
   "metadata": {
    "pycharm": {
     "name": "#%% md\n"
    }
   },
   "source": [
    "## Модель"
   ]
  },
  {
   "cell_type": "markdown",
   "metadata": {
    "pycharm": {
     "name": "#%% md\n"
    }
   },
   "source": [
    "### [RNN](https://pytorch.org/docs/stable/generated/torch.nn.RNN.html)\n",
    "\n",
    "$$h_t = \\tanh\\left( x_tW_{xh}^T + b_{xh} + h_{t-1}W_{hh}^T + b_{hh} \\right)$$\n",
    "\n",
    "либо если `bias=False`, то\n",
    "\n",
    "$$h_t = \\tanh\\left( x_tW_{xh}^T + h_{t-1}W_{hh}^T \\right)$$\n",
    "\n",
    "Параметры:\n",
    "\n",
    " - `input_size` - размерность $x_i$\n",
    " - `hidden_size` - размерность $h_i$\n",
    " - `num_layers` - количество слоев (по умолчанию 1)\n",
    " - `dropout` - какой делать дропаут при количестве слоев > 1 (по умолчанию 0)\n",
    " - `bidirectional` - двунаправленная"
   ]
  },
  {
   "cell_type": "code",
   "execution_count": 17,
   "metadata": {
    "pycharm": {
     "name": "#%%\n"
    }
   },
   "outputs": [],
   "source": [
    "layer = nn.RNN(input_size=3, hidden_size=6)"
   ]
  },
  {
   "cell_type": "code",
   "execution_count": 18,
   "metadata": {
    "pycharm": {
     "name": "#%%\n"
    }
   },
   "outputs": [
    {
     "data": {
      "text/plain": [
       "RNN(3, 6)"
      ]
     },
     "execution_count": 18,
     "metadata": {},
     "output_type": "execute_result"
    }
   ],
   "source": [
    "layer"
   ]
  },
  {
   "cell_type": "code",
   "execution_count": 19,
   "metadata": {
    "pycharm": {
     "name": "#%%\n"
    }
   },
   "outputs": [
    {
     "name": "stdout",
     "output_type": "stream",
     "text": [
      "Parameter containing:\n",
      "tensor([[ 0.2082,  0.0623,  0.3377,  0.2185,  0.1692,  0.2289],\n",
      "        [ 0.0612,  0.3933,  0.3653,  0.2516,  0.3007, -0.0733],\n",
      "        [ 0.2787,  0.3451, -0.2461, -0.1946, -0.1107, -0.2474],\n",
      "        [ 0.1061,  0.2022, -0.0181, -0.1144, -0.3573,  0.1615],\n",
      "        [-0.0236,  0.1253, -0.2283, -0.0060, -0.2845, -0.1892],\n",
      "        [-0.2363, -0.2065, -0.2191,  0.0771,  0.2829,  0.3248]],\n",
      "       requires_grad=True)\n",
      "\n",
      "torch.Size([6, 6])\n"
     ]
    }
   ],
   "source": [
    "print(layer.weight_hh_l0)\n",
    "print()\n",
    "print(layer.weight_hh_l0.shape)# 6 - это hidden size"
   ]
  },
  {
   "cell_type": "code",
   "execution_count": 20,
   "metadata": {
    "pycharm": {
     "name": "#%%\n"
    }
   },
   "outputs": [
    {
     "name": "stdout",
     "output_type": "stream",
     "text": [
      "Parameter containing:\n",
      "tensor([[-0.1109,  0.1428, -0.2539],\n",
      "        [ 0.1773,  0.1756, -0.1143],\n",
      "        [-0.2971, -0.3019, -0.2985],\n",
      "        [ 0.1884,  0.3133, -0.2301],\n",
      "        [-0.2320,  0.0090, -0.3485],\n",
      "        [ 0.4030,  0.2660,  0.3265]], requires_grad=True)\n",
      "\n",
      "torch.Size([6, 3])\n"
     ]
    }
   ],
   "source": [
    "print(layer.weight_ih_l0)\n",
    "print()\n",
    "print(layer.weight_ih_l0.shape)"
   ]
  },
  {
   "cell_type": "code",
   "execution_count": 21,
   "metadata": {
    "pycharm": {
     "name": "#%%\n"
    }
   },
   "outputs": [
    {
     "name": "stdout",
     "output_type": "stream",
     "text": [
      "Parameter containing:\n",
      "tensor([-0.3354,  0.1982, -0.1896, -0.0691,  0.0295,  0.0351],\n",
      "       requires_grad=True)\n",
      "\n",
      "torch.Size([6])\n"
     ]
    }
   ],
   "source": [
    "print(layer.bias_hh_l0)\n",
    "print()\n",
    "print(layer.bias_hh_l0.shape)"
   ]
  },
  {
   "cell_type": "code",
   "execution_count": 22,
   "metadata": {
    "pycharm": {
     "name": "#%%\n"
    }
   },
   "outputs": [
    {
     "name": "stdout",
     "output_type": "stream",
     "text": [
      "Parameter containing:\n",
      "tensor([-0.1381, -0.1713,  0.2938, -0.1809, -0.0665, -0.1349],\n",
      "       requires_grad=True)\n",
      "\n",
      "torch.Size([6])\n"
     ]
    }
   ],
   "source": [
    "print(layer.bias_ih_l0)\n",
    "print()\n",
    "print(layer.bias_ih_l0.shape)"
   ]
  },
  {
   "cell_type": "code",
   "execution_count": 23,
   "metadata": {},
   "outputs": [
    {
     "data": {
      "text/plain": [
       "tensor([[[ 0.6021,  0.2853,  0.8773, -0.0670],\n",
       "         [ 0.3562, -1.2406,  1.2455, -0.1335]],\n",
       "\n",
       "        [[-0.2112, -0.3011,  0.1900, -0.4704],\n",
       "         [ 1.0474, -1.4184, -1.2866,  0.6040]]])"
      ]
     },
     "execution_count": 23,
     "metadata": {},
     "output_type": "execute_result"
    }
   ],
   "source": [
    "torch.randn(2, 2, 4)"
   ]
  },
  {
   "cell_type": "code",
   "execution_count": 24,
   "metadata": {
    "pycharm": {
     "name": "#%%\n"
    }
   },
   "outputs": [
    {
     "name": "stdout",
     "output_type": "stream",
     "text": [
      "\n",
      "torch.Size([5, 7, 6])\n",
      "\n",
      "\n",
      "torch.Size([1, 5, 6])\n"
     ]
    }
   ],
   "source": [
    "batch_size = 5 # колво бачей\n",
    "seq_len = 7 # длинна последовательности\n",
    "input_dim = 3 # длинна каждого вектора в последовательности \n",
    "\n",
    "layer = nn.RNN(input_size=3, hidden_size=6, batch_first=True)\n",
    "\n",
    "x = torch.randn(batch_size, seq_len, input_dim)\n",
    "\n",
    "hs, h_last = layer(x)\n",
    "\n",
    "#print(hs)\n",
    "print()\n",
    "print(hs.shape)\n",
    "\n",
    "print()\n",
    "\n",
    "#print(h_last)\n",
    "print()\n",
    "print(h_last.shape)"
   ]
  },
  {
   "cell_type": "code",
   "execution_count": 25,
   "metadata": {
    "pycharm": {
     "name": "#%%\n"
    }
   },
   "outputs": [
    {
     "name": "stdout",
     "output_type": "stream",
     "text": [
      "tensor([[[-0.3047, -0.6532,  0.3502, -0.0885, -0.6394, -0.0770],\n",
      "         [-0.2575, -0.5989,  0.0995, -0.1215, -0.4351,  0.0942],\n",
      "         [-0.6702, -0.5352,  0.6095, -0.6134, -0.2731,  0.4784],\n",
      "         [-0.1334, -0.5980,  0.0614,  0.0324, -0.4654,  0.0345],\n",
      "         [-0.1797, -0.5885, -0.0066, -0.0498, -0.3973,  0.0924],\n",
      "         [-0.7833,  0.2210,  0.0682, -0.9066,  0.9582,  0.9817],\n",
      "         [-0.1445, -0.4587, -0.1065, -0.1005,  0.0036,  0.4160]],\n",
      "\n",
      "        [[-0.9062,  0.0810,  0.0017, -0.9693,  0.9020,  0.9355],\n",
      "         [-0.6998, -0.3205,  0.0133, -0.7702,  0.2315,  0.6191],\n",
      "         [ 0.2738, -0.7283, -0.1533,  0.6905, -0.7519, -0.4820],\n",
      "         [-0.4365, -0.2064, -0.2047, -0.6040,  0.2400,  0.5492],\n",
      "         [ 0.0476, -0.5462, -0.4137,  0.1272, -0.6011, -0.3009],\n",
      "         [-0.7929, -0.7443,  0.6732, -0.3168, -0.0897,  0.8973],\n",
      "         [-0.3789, -0.6740,  0.3570, -0.1027, -0.8709, -0.2385]],\n",
      "\n",
      "        [[-0.8648, -0.7171,  0.8700, -0.4559, -0.0717,  0.9316],\n",
      "         [-0.6653, -0.7666,  0.6797, -0.0559, -0.6766,  0.3955],\n",
      "         [-0.1983, -0.1259, -0.5071, -0.6901, -0.2181, -0.1045],\n",
      "         [-0.8970, -0.6703,  0.7747, -0.7485, -0.3088,  0.7700],\n",
      "         [-0.6801, -0.0694, -0.0134, -0.8170,  0.6010,  0.7617],\n",
      "         [-0.7635,  0.2017, -0.3299, -0.8958,  0.8966,  0.9751],\n",
      "         [-0.6660, -0.4144,  0.1252, -0.7334,  0.0822,  0.1919]],\n",
      "\n",
      "        [[-0.6129, -0.4599,  0.2908, -0.5391, -0.3061,  0.6038],\n",
      "         [-0.3344, -0.2961, -0.1994, -0.4835, -0.0819,  0.2633],\n",
      "         [-0.5474, -0.8883,  0.7215,  0.3756, -0.9081, -0.6321],\n",
      "         [-0.2140, -0.4396, -0.3780,  0.0415,  0.2756,  0.5955],\n",
      "         [-0.8561, -0.3268,  0.3976, -0.7571,  0.8495,  0.9839],\n",
      "         [-0.5090, -0.8264,  0.7465,  0.4871, -0.7237,  0.6406],\n",
      "         [-0.6459, -0.4728, -0.1056, -0.4819,  0.6644,  0.8685]],\n",
      "\n",
      "        [[-0.5634, -0.6643,  0.0459, -0.2634, -0.4645,  0.1534],\n",
      "         [ 0.0127, -0.4654, -0.4970,  0.3084,  0.2964,  0.5812],\n",
      "         [-0.4464, -0.2248, -0.3660, -0.8095,  0.2466,  0.0779],\n",
      "         [-0.1220, -0.2137, -0.1296, -0.1340, -0.1305,  0.7574],\n",
      "         [-0.5363, -0.1542, -0.1288, -0.4383,  0.8474,  0.9843],\n",
      "         [-0.0313, -0.0375, -0.7613, -0.6085, -0.1396,  0.1345],\n",
      "         [-0.7671, -0.5518,  0.5520, -0.6002, -0.3744,  0.8552]]],\n",
      "       grad_fn=<StackBackward0>)\n",
      "\n",
      "torch.Size([5, 7, 6])\n",
      "\n",
      "tensor([[[-0.5634, -0.6643,  0.0459, -0.2634, -0.4645,  0.1534],\n",
      "         [ 0.0127, -0.4654, -0.4970,  0.3084,  0.2964,  0.5812],\n",
      "         [-0.4464, -0.2248, -0.3660, -0.8095,  0.2466,  0.0779],\n",
      "         [-0.1220, -0.2137, -0.1296, -0.1340, -0.1305,  0.7574],\n",
      "         [-0.5363, -0.1542, -0.1288, -0.4383,  0.8474,  0.9843],\n",
      "         [-0.0313, -0.0375, -0.7613, -0.6085, -0.1396,  0.1345],\n",
      "         [-0.7671, -0.5518,  0.5520, -0.6002, -0.3744,  0.8552]]],\n",
      "       grad_fn=<StackBackward0>)\n",
      "\n",
      "torch.Size([1, 7, 6])\n"
     ]
    }
   ],
   "source": [
    "batch_size = 5 \n",
    "seq_len = 7 \n",
    "input_dim = 3 # длина эмбединга\n",
    "\n",
    "layer = nn.RNN(input_size=3, hidden_size=6, batch_first=False)\n",
    "\n",
    "x = torch.randn(batch_size, seq_len, input_dim)\n",
    "\n",
    "hs, h_last = layer(x) # hs - набор всех скрытых состояний (все h_t)\n",
    "# h_last последнее скрытое состояние\n",
    "\n",
    "print(hs)\n",
    "print()\n",
    "print(hs.shape)\n",
    "\n",
    "print()\n",
    "\n",
    "print(h_last)\n",
    "print()\n",
    "print(h_last.shape)"
   ]
  },
  {
   "cell_type": "markdown",
   "metadata": {
    "pycharm": {
     "name": "#%% md\n"
    }
   },
   "source": [
    "### [GRU](https://pytorch.org/docs/stable/generated/torch.nn.GRU.html)\n",
    "\n",
    "$$r_t = \\sigma\\left( x_t W_{xr}^T + b_{xr} + h_{t-1}W_{hr}^T + b_{hr} \\right)$$\n",
    "$$z_t = \\sigma\\left( x_t W_{xz}^T + b_{xz} + h_{t-1}W_{hz}^T + b_{hz} \\right)$$\n",
    "$$\\hat{h_t} = \\tanh\\left( x_tW_{xh}^T + b_{xh} + r_t * (h_{t-1}W_{hh}^T + b_{hh}) \\right)$$\n",
    "$$h_t = (1 - z_t) * \\hat{h_t} + z_t * h_{t-1}$$\n",
    "\n",
    "Параметры такие же как у RNN."
   ]
  },
  {
   "cell_type": "code",
   "execution_count": 26,
   "metadata": {
    "pycharm": {
     "name": "#%%\n"
    }
   },
   "outputs": [],
   "source": [
    "layer = nn.GRU(input_size=3, hidden_size=6)"
   ]
  },
  {
   "cell_type": "code",
   "execution_count": 27,
   "metadata": {
    "pycharm": {
     "name": "#%%\n"
    }
   },
   "outputs": [
    {
     "name": "stdout",
     "output_type": "stream",
     "text": [
      "Parameter containing:\n",
      "tensor([[-0.3795,  0.3945,  0.1401, -0.0177, -0.1429,  0.0720],\n",
      "        [ 0.2244,  0.2862,  0.1870,  0.2316, -0.1476, -0.0174],\n",
      "        [-0.2054, -0.0026, -0.2239,  0.3861, -0.1652, -0.3187],\n",
      "        [ 0.1348, -0.3763, -0.3904, -0.2734, -0.2574, -0.3767],\n",
      "        [-0.3540,  0.2581,  0.0322,  0.1433, -0.3617, -0.0644],\n",
      "        [-0.0868,  0.3581, -0.3808,  0.1610, -0.2713, -0.3582],\n",
      "        [-0.1345,  0.1622, -0.3937,  0.2485, -0.3306, -0.3624],\n",
      "        [ 0.2448,  0.3253,  0.1287, -0.1988, -0.1887,  0.2489],\n",
      "        [-0.0123,  0.0712, -0.0278,  0.1780,  0.1249, -0.1700],\n",
      "        [-0.0249,  0.1212,  0.2509,  0.0231, -0.0212,  0.3214],\n",
      "        [ 0.1216, -0.1229, -0.2318,  0.2359,  0.1360,  0.1450],\n",
      "        [ 0.3625,  0.0353,  0.3416,  0.0907,  0.0496, -0.3813],\n",
      "        [-0.0670, -0.2634, -0.3678,  0.3101, -0.1298,  0.3099],\n",
      "        [-0.1154, -0.3773,  0.1521, -0.0654,  0.1523,  0.3037],\n",
      "        [ 0.0927,  0.2972, -0.0473, -0.1705, -0.2201,  0.2608],\n",
      "        [-0.0736, -0.3110, -0.1736, -0.2942, -0.0560,  0.0328],\n",
      "        [ 0.1563,  0.1158,  0.2783, -0.2302, -0.2437, -0.0425],\n",
      "        [ 0.3270,  0.0111, -0.3136, -0.3463,  0.0198,  0.3553]],\n",
      "       requires_grad=True)\n",
      "\n",
      "torch.Size([18, 6])\n"
     ]
    }
   ],
   "source": [
    "print(layer.weight_hh_l0)\n",
    "print()\n",
    "print(layer.weight_hh_l0.shape)"
   ]
  },
  {
   "cell_type": "code",
   "execution_count": 28,
   "metadata": {
    "pycharm": {
     "name": "#%%\n"
    }
   },
   "outputs": [
    {
     "name": "stdout",
     "output_type": "stream",
     "text": [
      "Parameter containing:\n",
      "tensor([[-0.1426,  0.2482,  0.2106],\n",
      "        [-0.0789, -0.2776,  0.0064],\n",
      "        [ 0.1400,  0.0772, -0.1338],\n",
      "        [ 0.0165, -0.3468,  0.1825],\n",
      "        [ 0.3825,  0.1400,  0.2545],\n",
      "        [ 0.1456,  0.2762,  0.3746],\n",
      "        [ 0.1200, -0.3751, -0.2630],\n",
      "        [-0.2978,  0.3997, -0.3249],\n",
      "        [ 0.2945, -0.0332,  0.1670],\n",
      "        [ 0.3514,  0.3561, -0.1829],\n",
      "        [ 0.2781,  0.1483, -0.0013],\n",
      "        [ 0.3543, -0.0354,  0.1289],\n",
      "        [-0.2710, -0.2487,  0.4025],\n",
      "        [-0.3376,  0.3867, -0.2156],\n",
      "        [ 0.1107,  0.3699,  0.1605],\n",
      "        [-0.1742, -0.1445,  0.3100],\n",
      "        [ 0.0776, -0.1434, -0.1630],\n",
      "        [ 0.0675, -0.0098, -0.1735]], requires_grad=True)\n",
      "\n",
      "torch.Size([18, 3])\n"
     ]
    }
   ],
   "source": [
    "print(layer.weight_ih_l0)\n",
    "print()\n",
    "print(layer.weight_ih_l0.shape)"
   ]
  },
  {
   "cell_type": "code",
   "execution_count": 29,
   "metadata": {
    "pycharm": {
     "name": "#%%\n"
    }
   },
   "outputs": [
    {
     "name": "stdout",
     "output_type": "stream",
     "text": [
      "Parameter containing:\n",
      "tensor([-0.3949, -0.0474, -0.3430, -0.1024,  0.1599, -0.0782, -0.1384,  0.3510,\n",
      "        -0.1596, -0.3429, -0.3584,  0.2238,  0.0414,  0.1248, -0.4007, -0.2065,\n",
      "        -0.0577,  0.3954], requires_grad=True)\n",
      "\n",
      "torch.Size([18])\n"
     ]
    }
   ],
   "source": [
    "print(layer.bias_ih_l0)\n",
    "print()\n",
    "print(layer.bias_ih_l0.shape)"
   ]
  },
  {
   "cell_type": "code",
   "execution_count": 30,
   "metadata": {
    "pycharm": {
     "name": "#%%\n"
    }
   },
   "outputs": [
    {
     "name": "stdout",
     "output_type": "stream",
     "text": [
      "Parameter containing:\n",
      "tensor([-0.3949, -0.0474, -0.3430, -0.1024,  0.1599, -0.0782, -0.1384,  0.3510,\n",
      "        -0.1596, -0.3429, -0.3584,  0.2238,  0.0414,  0.1248, -0.4007, -0.2065,\n",
      "        -0.0577,  0.3954], requires_grad=True)\n",
      "\n",
      "torch.Size([18])\n"
     ]
    }
   ],
   "source": [
    "print(layer.bias_ih_l0)\n",
    "print()\n",
    "print(layer.bias_ih_l0.shape)"
   ]
  },
  {
   "cell_type": "markdown",
   "metadata": {
    "pycharm": {
     "name": "#%% md\n"
    }
   },
   "source": [
    "### [LSTM](https://pytorch.org/docs/stable/generated/torch.nn.LSTM.html)\n",
    "\n",
    "Более страшные формулы, все в целом очень похоже на GRU. Параметры те же."
   ]
  },
  {
   "cell_type": "code",
   "execution_count": 31,
   "metadata": {
    "pycharm": {
     "name": "#%%\n"
    }
   },
   "outputs": [],
   "source": [
    "layer = nn.LSTM(input_size=3, hidden_size=6)"
   ]
  },
  {
   "cell_type": "markdown",
   "metadata": {
    "pycharm": {
     "name": "#%% md\n"
    }
   },
   "source": [
    "### Модель"
   ]
  },
  {
   "cell_type": "code",
   "execution_count": 32,
   "metadata": {
    "pycharm": {
     "name": "#%%\n"
    }
   },
   "outputs": [],
   "source": [
    "class AnekdoteRNN(nn.Module):\n",
    "    def __init__(self, num_tokens: int, emb_size: int=32, hidden_size: int=256):\n",
    "        super().__init__()\n",
    "\n",
    "        self.embedding = nn.Embedding(num_tokens, emb_size, padding_idx = pad_idx)\n",
    "        # num_tokens = размер словаря - 85\n",
    "        # emb_size = 32\n",
    "        self.rnn = nn.LSTM(\n",
    "            input_size=emb_size, #мы будем предсказывать вероятность следующего символа\n",
    "            hidden_size=hidden_size,\n",
    "            num_layers=4,\n",
    "            dropout=0.3,\n",
    "            batch_first=True\n",
    "        )\n",
    "\n",
    "        self.output = nn.Sequential(\n",
    "            nn.Linear(hidden_size, hidden_size), \n",
    "            nn.LeakyReLU(),\n",
    "            nn.Linear(hidden_size, num_tokens)\n",
    "        )\n",
    "\n",
    "    def forward(self, x):\n",
    "        x = self.embedding(x) \n",
    "        x, _ = self.rnn(x) # поскольку нам нужно для каждого токена предсказать какой следующий \n",
    "        # то мы нуждаемся во всех скрытый представлениях\n",
    "        x  = self.output(x)\n",
    "\n",
    "        return x"
   ]
  },
  {
   "cell_type": "code",
   "execution_count": 33,
   "metadata": {},
   "outputs": [
    {
     "data": {
      "text/plain": [
       "torch.Size([115, 32])"
      ]
     },
     "execution_count": 33,
     "metadata": {},
     "output_type": "execute_result"
    }
   ],
   "source": [
    "nn.Embedding(len(dataset.vocab.get_vocabulary()),32,padding_idx = pad_idx)(dataset[0]).shape"
   ]
  },
  {
   "cell_type": "code",
   "execution_count": 34,
   "metadata": {
    "pycharm": {
     "name": "#%%\n"
    }
   },
   "outputs": [],
   "source": [
    "model = AnekdoteRNN(num_tokens=len(dataset.vocab.get_vocabulary()))"
   ]
  },
  {
   "cell_type": "markdown",
   "metadata": {
    "pycharm": {
     "name": "#%% md\n"
    }
   },
   "source": [
    "## Функции для обучения"
   ]
  },
  {
   "cell_type": "code",
   "execution_count": 35,
   "metadata": {},
   "outputs": [],
   "source": [
    "for i in train_loader:\n",
    "    break"
   ]
  },
  {
   "cell_type": "code",
   "execution_count": 36,
   "metadata": {},
   "outputs": [],
   "source": [
    "a = model(i[:,:-1])"
   ]
  },
  {
   "cell_type": "code",
   "execution_count": 37,
   "metadata": {},
   "outputs": [
    {
     "data": {
      "text/plain": [
       "tensor([-0.0241, -0.0201,  0.0159, -0.0109,  0.0565,  0.0279, -0.0021,  0.0255,\n",
       "        -0.0214, -0.0276, -0.0365,  0.0134, -0.0411, -0.0375,  0.0434,  0.0295,\n",
       "         0.0636,  0.0043,  0.0355,  0.0413,  0.0203,  0.0180, -0.0418,  0.0070,\n",
       "         0.0042, -0.0193, -0.0594, -0.0207, -0.0385, -0.0371,  0.0527,  0.0114,\n",
       "         0.0376,  0.0113,  0.0117,  0.0633, -0.0154,  0.0239,  0.0052, -0.0336,\n",
       "        -0.0263,  0.0463, -0.0118, -0.0233, -0.0388, -0.0302,  0.0265,  0.0425,\n",
       "         0.0360, -0.0070,  0.0202, -0.0327,  0.0371, -0.0654,  0.0335, -0.0257,\n",
       "        -0.0042, -0.0321, -0.0334, -0.0497,  0.0378,  0.0257,  0.0155,  0.0173,\n",
       "         0.0100, -0.0310, -0.0363, -0.0346, -0.0652, -0.0192,  0.0181,  0.0141,\n",
       "         0.0495, -0.0044, -0.0541, -0.0228,  0.0086,  0.0470, -0.0281, -0.0461,\n",
       "        -0.0722, -0.0410, -0.0133,  0.0259,  0.0089],\n",
       "       grad_fn=<SelectBackward0>)"
      ]
     },
     "execution_count": 37,
     "metadata": {},
     "output_type": "execute_result"
    }
   ],
   "source": [
    "a[0][0]"
   ]
  },
  {
   "cell_type": "code",
   "execution_count": 38,
   "metadata": {},
   "outputs": [
    {
     "data": {
      "text/plain": [
       "torch.Size([256, 85, 255])"
      ]
     },
     "execution_count": 38,
     "metadata": {},
     "output_type": "execute_result"
    }
   ],
   "source": [
    "a.transpose(1, 2).shape"
   ]
  },
  {
   "cell_type": "code",
   "execution_count": 39,
   "metadata": {},
   "outputs": [
    {
     "data": {
      "text/plain": [
       "(torch.Size([256, 255, 85]), torch.Size([256, 255]))"
      ]
     },
     "execution_count": 39,
     "metadata": {},
     "output_type": "execute_result"
    }
   ],
   "source": [
    "a.shape,i[:, 1:].shape"
   ]
  },
  {
   "cell_type": "code",
   "execution_count": null,
   "metadata": {},
   "outputs": [],
   "source": []
  },
  {
   "cell_type": "code",
   "execution_count": 40,
   "metadata": {},
   "outputs": [],
   "source": [
    "# loss_fn(a[0][0],i[0][1])"
   ]
  },
  {
   "cell_type": "code",
   "execution_count": 41,
   "metadata": {
    "pycharm": {
     "name": "#%%\n"
    }
   },
   "outputs": [],
   "source": [
    "from tqdm import tqdm\n",
    "\n",
    "\n",
    "def train(model):\n",
    "    model.train()\n",
    "\n",
    "    train_loss = 0\n",
    "\n",
    "    for x in tqdm(train_loader, desc='Train'):\n",
    "        x = x.to(device)\n",
    "\n",
    "        optimizer.zero_grad()\n",
    "\n",
    "        output = model(x[:, :-1]).transpose(1, 2)\n",
    "\n",
    "        loss = loss_fn(output, x[:, 1:])# в лосе находятся токены, которые нужно предсказать \"после перовго\"\n",
    "\n",
    "        train_loss += loss.item()\n",
    "\n",
    "        loss.backward()\n",
    "\n",
    "        optimizer.step()\n",
    "\n",
    "    train_loss /= len(train_loader)\n",
    "\n",
    "    return train_loss"
   ]
  },
  {
   "cell_type": "markdown",
   "metadata": {
    "pycharm": {
     "name": "#%% md\n"
    }
   },
   "source": [
    "Поскольку мы используем `nn.CrossEntropyLoss`, то посмотрим в каком размере она ожидает входы:\n",
    "\n",
    " - Input: Shape $(C)$, $(N, C)$ or $(N, C, d_1, d_2, ..., d_K)$ with $K \\geq 1$ in the case of $K$-dimensional loss.\n",
    " - Target: $(N)$ or $(N, d_1, d_2, ..., d_K)$ with $K \\geq 1$ in the case of $K$-dimensional loss where each value should be between $[0, C)$."
   ]
  },
  {
   "cell_type": "code",
   "execution_count": 42,
   "metadata": {
    "pycharm": {
     "name": "#%%\n"
    }
   },
   "outputs": [
    {
     "name": "stdout",
     "output_type": "stream",
     "text": [
      "torch.Size([256, 255, 85])\n",
      "torch.Size([256, 255])\n",
      "\n",
      "torch.Size([256, 85, 255])\n"
     ]
    }
   ],
   "source": [
    "x = next(iter(train_loader))\n",
    "\n",
    "output = model(x[:, :-1])\n",
    "\n",
    "print(output.shape)\n",
    "print(x[:, 1:].shape)# N - размер батча, С - кол-во классов, d1- длинна последовательности\n",
    "\n",
    "print()\n",
    "\n",
    "print(output.transpose(1, 2).shape)"
   ]
  },
  {
   "cell_type": "code",
   "execution_count": 43,
   "metadata": {
    "pycharm": {
     "name": "#%%\n"
    }
   },
   "outputs": [
    {
     "name": "stdout",
     "output_type": "stream",
     "text": [
      "85\n"
     ]
    }
   ],
   "source": [
    "print(len(dataset.vocab.get_vocabulary()))"
   ]
  },
  {
   "cell_type": "code",
   "execution_count": 44,
   "metadata": {
    "pycharm": {
     "name": "#%%\n"
    }
   },
   "outputs": [],
   "source": [
    "@torch.inference_mode()\n",
    "def evaluate(model, loader):\n",
    "    model.eval()\n",
    "\n",
    "    total_loss = 0\n",
    "\n",
    "    for x in tqdm(loader, desc='Evaluation'):\n",
    "        x = x.to(device)\n",
    "\n",
    "        output = model(x[:, :-1]).transpose(1, 2)\n",
    "\n",
    "        loss = loss_fn(output, x[:, 1:])\n",
    "\n",
    "        total_loss += loss.item()\n",
    "\n",
    "    total_loss /= len(loader)\n",
    "\n",
    "    return total_loss"
   ]
  },
  {
   "cell_type": "code",
   "execution_count": 45,
   "metadata": {
    "pycharm": {
     "name": "#%%\n"
    }
   },
   "outputs": [],
   "source": [
    "def plot_stats(\n",
    "    train_loss: list[float],\n",
    "    valid_loss: list[float],\n",
    "    title: str\n",
    "):\n",
    "    plt.figure(figsize=(16, 8))\n",
    "\n",
    "    plt.title(title + ' loss')\n",
    "\n",
    "    plt.plot(train_loss, label='Train loss')\n",
    "    plt.plot(valid_loss, label='Valid loss')\n",
    "    plt.legend()\n",
    "    plt.grid()\n",
    "\n",
    "    plt.show()"
   ]
  },
  {
   "cell_type": "code",
   "execution_count": 46,
   "metadata": {
    "pycharm": {
     "name": "#%%\n"
    }
   },
   "outputs": [],
   "source": [
    "def whole_train_valid_cycle(model, num_epochs, title):\n",
    "    train_loss_history, valid_loss_history = [], []\n",
    "\n",
    "    for epoch in range(num_epochs):\n",
    "        train_loss = train(model)\n",
    "        valid_loss = evaluate(model, valid_loader)\n",
    "\n",
    "        train_loss_history.append(train_loss)\n",
    "        valid_loss_history.append(valid_loss)\n",
    "\n",
    "        clear_output(wait=True)\n",
    "\n",
    "        plot_stats(\n",
    "            train_loss_history, valid_loss_history,\n",
    "            title\n",
    "        )"
   ]
  },
  {
   "cell_type": "markdown",
   "metadata": {
    "pycharm": {
     "name": "#%% md\n"
    }
   },
   "source": [
    "## Обучение"
   ]
  },
  {
   "cell_type": "code",
   "execution_count": 47,
   "metadata": {
    "pycharm": {
     "name": "#%%\n"
    }
   },
   "outputs": [
    {
     "name": "stdout",
     "output_type": "stream",
     "text": [
      "cuda:0\n",
      "NVIDIA GeForce RTX 3080 Ti\n"
     ]
    }
   ],
   "source": [
    "device = torch.device('cuda:0' if torch.cuda.is_available() else 'cpu')\n",
    "\n",
    "print(device)\n",
    "print(torch.cuda.get_device_name())"
   ]
  },
  {
   "cell_type": "code",
   "execution_count": 48,
   "metadata": {
    "pycharm": {
     "name": "#%%\n"
    }
   },
   "outputs": [
    {
     "data": {
      "image/png": "[encoded data removed]",
      "text/plain": [
       "<Figure size 1600x800 with 1 Axes>"
      ]
     },
     "metadata": {},
     "output_type": "display_data"
    }
   ],
   "source": [
    "from torch.optim import Adam\n",
    "\n",
    "\n",
    "model = model.to(device)\n",
    "\n",
    "optimizer = Adam(model.parameters(), lr=5e-3)\n",
    "\n",
    "loss_fn = nn.CrossEntropyLoss(ignore_index=pad_idx)# чтобы не считала ошибку на паддинге\n",
    "\n",
    "whole_train_valid_cycle(model, 25, 'Anekdote')"
   ]
  },
  {
   "cell_type": "markdown",
   "metadata": {
    "pycharm": {
     "name": "#%% md\n"
    }
   },
   "source": [
    "## Генерация текста (анекдотов)"
   ]
  },
  {
   "cell_type": "code",
   "execution_count": 49,
   "metadata": {
    "pycharm": {
     "name": "#%%\n"
    }
   },
   "outputs": [],
   "source": [
    "eos = dataset.vocab.get_eos()\n",
    "\n",
    "\n",
    "def ids2string(ids): # сгенерированные индексы в строку\n",
    "    result = []\n",
    "    for _ in ids:\n",
    "        if _ != eos:\n",
    "            result.append(dataset.vocab.idx2char(_))\n",
    "    \n",
    "    return \"\".join(result) \n",
    "\n",
    "\n",
    "def batch2string(ids, prefix): # \n",
    "    ans = \"\"\n",
    "\n",
    "    for i, substr in enumerate(ids):\n",
    "        ans += prefix + ids2string(substr.tolist())# prefix + перевод\n",
    "\n",
    "        if i != len(ids) - 1:\n",
    "            ans += '\\n'\n",
    "\n",
    "    return ans\n",
    "\n",
    "\n",
    "def pick_by_distribution(logits):\n",
    "    probs = torch.exp(logits)\n",
    "\n",
    "    sample = torch.distributions.Categorical(probs).sample()\n",
    "\n",
    "    return sample\n",
    "\n",
    "\n",
    "@torch.inference_mode()\n",
    "def gen_continuation(model, prefix: str = \"\", max_len: int = 150, count=10, temperature: float=1):\n",
    "    x = torch.LongTensor([dataset.vocab.encode(prefix)[:-1]] * count).to(device)\n",
    "\n",
    "    model.eval()\n",
    "\n",
    "    logits = model(x)[:, -1, :]\n",
    "    outs = pick_by_distribution(logits / temperature).unsqueeze(1)\n",
    "\n",
    "    for i in range(max_len):\n",
    "        x = torch.cat([x, outs], dim=1)\n",
    "        logits = model(x)[:, -1, :]\n",
    "\n",
    "        outs = pick_by_distribution(logits / temperature).unsqueeze(1)\n",
    "\n",
    "    print(batch2string(x[:, len(prefix) + 1:], prefix + '|'))"
   ]
  },
  {
   "cell_type": "code",
   "execution_count": 50,
   "metadata": {},
   "outputs": [
    {
     "data": {
      "text/plain": [
       "<__main__.Vocabulary at 0x2691237c820>"
      ]
     },
     "execution_count": 50,
     "metadata": {},
     "output_type": "execute_result"
    }
   ],
   "source": [
    "dataset.vocab"
   ]
  },
  {
   "cell_type": "code",
   "execution_count": 51,
   "metadata": {},
   "outputs": [
    {
     "data": {
      "text/plain": [
       "[0, 52, 20, 12, 25, 18, 7, 12, 22, 79, 14, 3, 14, 84, 22, 18, 1]"
      ]
     },
     "execution_count": 51,
     "metadata": {},
     "output_type": "execute_result"
    }
   ],
   "source": [
    "dataset.vocab.encode('Приходит как-то')"
   ]
  },
  {
   "cell_type": "code",
   "execution_count": 52,
   "metadata": {
    "pycharm": {
     "name": "#%%\n"
    }
   },
   "outputs": [
    {
     "name": "stdout",
     "output_type": "stream",
     "text": [
      "Приходит как-то| стоящему сыну- Мама, я хочу подарить на своей стране.- Да нет, ты хочешь открыть она все с концом?- Нет.- А ты перестал сделать вас и не дается! у м\n",
      "Приходит как-то| другой- Мужик, а кто такой странный достойный?- Да нет, только по красным стоматологом!брак- Так и бы ты не замороженный, чтобы благодаря и в семье \n",
      "Приходит как-то| адрес- Скажите, а как отличается странное слово?- Только по дороге я понял, что если в комнате не устроили про комнату в конце школы. слушайте мне в\n",
      "Приходит как-то| по воде и говорит- Я не буду быть важным, вот это такое друзья?- Да нет, где же вам поменять не в одном магазине? все комары за коммуналки так и не \n",
      "Приходит как-то| подруге- Не понимаю, а что я вас вообще портила?- Есть, я уже не открыла голову. потом в поезде не приехала в рекламу и интересно, зачем собираться \n",
      "Приходит как-то| в принципе- Милочка, а почему у нас в комнате поставить?- Потому что я так никогда не поняла. Но это семья меня не выходит. мужик на ребенка. Требуе\n",
      "Приходит как-то| своего другого- Ты чем женишься?- Да как ты слышал, что по предложению в театре не разговаривают? мужик спрашивает- А ты когда-нибудь на что получил\n",
      "Приходит как-то| в кабинет в садик, другой- Мама, я поняла, что начала не работать в пробке, завтра полное гори у тебя можно получить свои глаза на продажу и сказали.\n",
      "Приходит как-то| дверь в детском образовании- Мама, мне кажется, что совершенно не можешь понять у нас в комнате от вас в травматологии?- Меня не хочется! тот же мас\n",
      "Приходит как-то| подумал проституток к бабушке, подскажет- Пока я вчера поднял тебе в какой-то шарик, что у них нет в конце рождения. у него нет денег. Так и не надо\n"
     ]
    }
   ],
   "source": [
    "gen_continuation(model, prefix='Приходит как-то', temperature=0.5)"
   ]
  },
  {
   "cell_type": "code",
   "execution_count": 53,
   "metadata": {
    "pycharm": {
     "name": "#%%\n"
    }
   },
   "outputs": [
    {
     "name": "stdout",
     "output_type": "stream",
     "text": [
      "Штирлиц| приехал на полу и подождите, что он не приехал на продавщицу и подозревала о себе. на свете постоянно не запретили со странной продуктов. мужики вы\n",
      "Штирлиц| не понимает, что по столу при положении концов не в нашем отделении выступать на пол и стал выпить своему большую службу. тот же неделю поднял в под\n",
      "Штирлиц| приходит в комнату и говорит- Я вчера подарю вам при этом и сказал по городу и собрался в самолете, а в ней не стало подарить своего мужа. он обрати\n",
      "Штирлиц| принял в телефоне в кабинет на своем саду. Подходит спать и говорит- Где ты не видел?- Нет, не все подожди, я стараюсь принять тебя в кармане. он от\n",
      "Штирлиц| с положением в мире не был поднимать в стране по борьбе и спрашивает- Дорогая, я не могу понять, как вы делаете деньги?- Нет, а ты что, не поняла?- Д\n",
      "Штирлиц| в кармане после свадьбы- Скажите, а почему ты думаешь, что ты в качестве подаришь?- Да нет, но с ним страшно подарила в стране, а то не поняла... по\n",
      "Штирлиц| спрашивает у девушки- Девушка, а как ты думаешь, что ты будешь выпить?- Я тебе не заканчиваю ваши полиции и подарим в стране денег на своей жизни. в\n",
      "Штирлиц| спрашивает у мамы- Почему вы получаетесь в политике?- Потому что теперь он себе стал подняться в своей жизни. как после секса в конце сердца не поду\n",
      "Штирлиц| собирается по статистике и спрашивает- Девушка, а как ты думаешь, что ты так поднимаешься?- Да я не могу сделать все секс. не понимаю, что ты больше\n",
      "Штирлиц| придет к себе в магазине в столовой в комнату и говорит- Да вот, так он такой красивый.- А почему?- В смысле придется подарить меня по сторонам по со\n"
     ]
    }
   ],
   "source": [
    "gen_continuation(model, prefix='Штирлиц', temperature=0.3)"
   ]
  },
  {
   "cell_type": "code",
   "execution_count": 54,
   "metadata": {
    "pycharm": {
     "name": "#%%\n"
    }
   },
   "outputs": [
    {
     "name": "stdout",
     "output_type": "stream",
     "text": [
      "|По полному человеку на полном правильном стране все равно не видели. теперь в каждом компании в порядке конца бутылки в Интернете и умный ребенок не \n",
      "|- Почему ты открываешь женщину?- Потому что он начал закрыть его контактным комнатам, теперь вы поставляете вам от продукта и выбрать при подруге. ко\n",
      "|- Как называется законопросто группа водки?- В принципе на неделю не было. мужик сидит на день рождения- Скажите, а сколько у тебя сильные женщины?- \n",
      "|Подходит мужик в комнату и спрашивает- Ты почему ты не разве не помнишь?- Когда в пивном водке не видели работа с полосатой девушкой.- Так ты чего?!х\n",
      "|У нас в детстве после выбора принял свою автобусу колени. А он отвечает- Да, доченька, я не знал, как она смотрела! откуда у нее обратиться в кастрюл\n",
      "|- Меня знаете, как я помню, что ты стараюсь не пришла?- Вот так и скажи, что не будет просто радуйся... почему не расположить материальную проститутк\n",
      "|- Вась, а что ты откуда с ним скажешь?- Посмотри она прилагает его жизни. Ты стоишь по телефону, а так купить голову. когда на столе и самое права пр\n",
      "|- Как такой долг?- Да вот, попробуй взять в нем денег. жена спрашивает- А что такое только один?- Бедный простой и не нашему мальчик. идеальный дом \n",
      "|- Как дела?- А когда я поддержала в карман и не нашла! Не слышала, что я просто не найду ей на работу. так ему привязывают по морде. Вот в каком мужч\n",
      "|- А почему ты так страшная, то ты меня скажешь?- С тобой.- Ну как ты думаешь, что я стараюсь отдать простому легкой вечеринке, на меня не видели...- А\n"
     ]
    }
   ],
   "source": [
    "gen_continuation(model, prefix='', temperature=0.5)"
   ]
  },
  {
   "cell_type": "code",
   "execution_count": 55,
   "metadata": {
    "pycharm": {
     "name": "#%%\n"
    }
   },
   "outputs": [
    {
     "name": "stdout",
     "output_type": "stream",
     "text": [
      "Купил мужик шляпу|. И потом произнес на вокзале, бросила в ответ- Слушай, поняла сколько вам себе сказать До сих пор делать мне сколько у него такое конкурсе? потом он\n",
      "Купил мужик шляпу| в банк, а в телефоне после военного возраста по телефону поднять ему на работу. Принес и говорит- Дорогой, а почему ты не настоящий человек?- Да, пож\n",
      "Купил мужик шляпу| своей жены и спрашивает- Я вчера в спальню понял, как вам будет вернуться?- Да.- А что такое?- Не посмотри, слушай, к кому-то я вам - не обратно. те\n",
      "Купил мужик шляпу| и спрашивает- Говорят, что он будет попытаться закончить три года?- Нет, тогда я тебе сделала. не могу понять, что все больше не имеет. остальные с\n",
      "Купил мужик шляпу| в стороне кому-нибудь на левом комнате, потому что он не понял, что ничего не спрашивает- На каком году и полностью не повернулись?- Нет, но он тольк\n",
      "Купил мужик шляпу|. Приехал на памятник, сказал, что страшно в проверках и красивым приеме на местном лесе. тут у нее страшно. то, что у него есть полосатое слово на \n",
      "Купил мужик шляпу| под глазами в аптеке. Потом спрашивает у собаки- Не могу изменить деньги на себя!- Слушай, не поняла, потому что ты и постоянно пошел! она открывает\n",
      "Купил мужик шляпу| за деревом и говорит- Я не покупаю этот день принесли.- А что такое маленький командир?- На кошелек потерял. себя в ответ в стране. тут же вырастет\n",
      "Купил мужик шляпу|, на улице. Поставили его он с подругой- А из вас заплатили?- Нет, я не могу сказать что?- Да если она должна быть при этом в трусы и подряд, что не м\n",
      "Купил мужик шляпу|. Через любовник попала к себе в семейном саду. Она спрашивает- Мама, я с моей женой не буду устраивать в детском серьезной технике и отдыхает в район\n"
     ]
    }
   ],
   "source": [
    "gen_continuation(model, prefix='Купил мужик шляпу', temperature=0.5)"
   ]
  },
  {
   "cell_type": "code",
   "execution_count": 56,
   "metadata": {
    "pycharm": {
     "name": "#%%\n"
    }
   },
   "outputs": [
    {
     "name": "stdout",
     "output_type": "stream",
     "text": [
      "Собака| считает как только в территорию и без молодого человека вы будете только от сказки, они пришли на своем половине чужих бабки. в России нет пацана не\n",
      "Собака| не скажет мои деньги с него на диване. они сказали, что он получается по действиям. вот видите ли, а вот таки и не будет... все удивляется скорее,\n",
      "Собака| шутит по другому детским видом своей спине. На политическом празднике придется высокое. Муж спрашивает- Скажите, а кто такой грустный?- А ты побежал \n",
      "Собака| не умеет ответить с ума и на свете - на ваши деньги. когда я забыл закрыть морду в самолете, который он начинает приехать на дверь. если он все мен\n",
      "Собака| и часть парня в 120 часов произносит- Дорогой, а почему жена подождала?- Потому что он сказал, что в садике по лесу вывод с собой доллары. не начина\n",
      "Собака| - это когда из детских политиков по подъездам не поняли, что вы были в собственном состоянии и обсуждать свой принцип. вот она просто не видела ее н\n",
      "Собака| - это единственная жизнь, которая пришла к стене и поговаривает отцу к ней мужикам и отвечает- Во время секса нет топора.- А что ты сделал?- Ну, мама\n",
      "Собака| в реальном подъезде не смог выпить, но и всегда было сильно на большом поставить другому долгу. вот вы видите строго от дурака и получается за нее б\n",
      "Собака| любила без телефона, а потом разрешают получить все сексуально. то время не поймете, что он становится в классе на рынках. не просто уже не слишком\n",
      "Собака| отказалась выбирать на диване и начала стать колбасу и спрашивают- Почему вы тут случились?- Да я уже пришел в другом месте, а он сказал, что продам.\n"
     ]
    }
   ],
   "source": [
    "gen_continuation(model, prefix='Собака', temperature=0.5)"
   ]
  },
  {
   "cell_type": "code",
   "execution_count": 57,
   "metadata": {
    "pycharm": {
     "name": "#%%\n"
    }
   },
   "outputs": [
    {
     "name": "stdout",
     "output_type": "stream",
     "text": [
      "Плывет крокодил| и говорит- Доченька, а как там принято после того, как же тебе себя поздравить?- Сама ответила мне, что ты не будешь сам после этого колени и животны\n",
      "Плывет крокодил| и спрашивает- Вась, ты почему не видела?- Почему ты поступила?- Я в этом году не выходил.- Но я вам постоянно должен быть немного спорта и на две хоч\n",
      "Плывет крокодил| по дороге- Вася, а ты мне не будешь случиться.- Я вы работаем в темноте, то привет! не должен просто оставаться по статистике. молодой человек, как\n",
      "Плывет крокодил|ьная пара и девушку- Я тебе не пользуюсь, только близко собирайся по голове, а я тебя не исполняюсь, ответим на красный российской свет с водки. они \n",
      "Плывет крокодил|ьный магазин. Молодой другому маме- Ты что делаешь мне поздно, когда я постоянно поняла?! Я не понимаю, что я не забыла. мама в конце водки секретарш\n",
      "Плывет крокодил|ьный продавец и спрашивает у другого- Вот так делай меня на концерт!- Слушай, а как при половине того, что ничего не давать?- Нет.- А точно вы выбирае\n",
      "Плывет крокодил| в постели и спрашивает- Дайте мне себе построить своего страна по полгода, я всегда могу открыть мужику...- А это его поставить?- Помогите как просто\n",
      "Плывет крокодил| в журнале- А в чем самый последний случай можно сделать?- Можно покупать в черные полиции. не могу сказать и выпустить ему только одну и подарить др\n",
      "Плывет крокодил|ьная постоянная пятна и спрашивает у девочки- На каком году все время сейчас не командер?- Она вышла за стола, который должен быть и выдерживать на не\n",
      "Плывет крокодил| в кабинет и говорит своему сыну- Мне кажется, что в конкуренте производители короткого старости у тебя не понятно.- С какой пор уже не пришли?- Это б\n"
     ]
    }
   ],
   "source": [
    "gen_continuation(model, prefix='Плывет крокодил', temperature=0.5)"
   ]
  },
  {
   "cell_type": "code",
   "execution_count": 58,
   "metadata": {
    "pycharm": {
     "name": "#%%\n"
    },
    "scrolled": false
   },
   "outputs": [
    {
     "name": "stdout",
     "output_type": "stream",
     "text": [
      "Штирлиц топил буржуйку. Только через два часа ему удалось ее утопить.\n",
      "\n",
      "Штирлиц топил буржуйку. Только через| телефон на самом деле не может вырастить на колени в интернет. тот, кто пригодился и спрашивает- Дайте мне свою жену!- Да ты что, как ее не надо! т\n",
      "Штирлиц топил буржуйку. Только через| три часа приняла своего мужа по десяткам. он говорит- А давайте при купе будем не подарить и начинать всю комнату в жизни. уже во время магазина в \n",
      "Штирлиц топил буржуйку. Только через| пять лет в отличной образовании просто определить как на воровать на собой. тот, кто и такой же не смог добро объединить в столе и пока не спешить н\n",
      "Штирлиц топил буржуйку. Только через| некоторое время не подумала- Я сегодня моя мама не понимает, что не подскажете, как они собираются выстрелить в школе на все одно города. потом приш\n",
      "Штирлиц топил буржуйку. Только через| месяц поддерживает в полицию от него- Я такой не мешаю. Может, только с концом, то откуда он тогда до меня спрашивает Милая, а как ты все же сказала?\n",
      "Штирлиц топил буржуйку. Только через| него не встает. Подумал Мюллер... потом на голову вырастет в том, что они достали домой и возмущается. вот все приходится было сидеть в конце. так\n",
      "Штирлиц топил буржуйку. Только через| карту не покажется лицом. Питер подписал за стену на выборы. тот же супермаркет, открывая быстрый человек на дорогу, а не как-то по продавецу и при\n",
      "Штирлиц топил буржуйку. Только через| неделю выбрали в медицинском институте и с интернета и полностью не смогли собраться в больше, чем пока не получите страну. он никогда не смог есть \n",
      "Штирлиц топил буржуйку. Только через| папу в туалете не в страну. еще принципиально полицейский был парнями. она подержала ему в одну и даже и приехала на все. тот, который может быть \n",
      "Штирлиц топил буржуйку. Только через| пять - это прошло. Светлым просто потому, что не совсем не давайте в месяц. не по вашему финансу. как случилось, что в школьном голове не отвечает \n",
      "\n",
      "----------------------------------------------------------------------------------------------------\n",
      "\n",
      "Тупой  подумал Штирлиц, рассматривая угол. Сам ты тупой!  не на шутку обиделся угол.\n",
      "\n",
      "Тупой подумал Штирлиц, рассматривая угол.| Потом после того, как будто не понимаешь, что мужчина хотел только в доме - по отсутствию волос по предложению с детства. под водкой и медаль продал\n",
      "Тупой подумал Штирлиц, рассматривая угол.| Мужик говорит мужу- Мой муж покажите?- Да я же скажу, я не могу тебе поздно постоянно в тебя выпиться. потом вырастет- Пока он написал причем как он\n",
      "Тупой подумал Штирлиц, рассматривая угол.| вот мою девушку показывается свой материал. ничего не поднимает. тот же маленький, поэтому и не слушай в огурцы и с колени компании. она открыла \n",
      "Тупой подумал Штирлиц, рассматривая угол.| Видел тебя на своей примете по полицейскому деньгам. тот, кто рассказывает- Скажите, а что такое лето?- Приходится заметить о нем правду. тот подсу\n",
      "Тупой подумал Штирлиц, рассматривая угол.| На предложение о том, что любовь - это больше идет женщинам. сейчас все время отправили в моей девушке до сих пор свободную сторону. все время посл\n",
      "Тупой подумал Штирлиц, рассматривая угол.| После выхода на скорости подруги в постели просто сделали дверь. что за один день на улице придется выпить в армию и на счете они на работе принято \n",
      "Тупой подумал Штирлиц, рассматривая угол.| По утрам пришел в результате возможностей выбирать коровы. тут он говорит- Как у них в работе нет?- Нет, с тобой не любишь. она отвечает- Так, а ка\n",
      "Тупой подумал Штирлиц, рассматривая угол.| когда в магазине в ответ на дискотеке при этом в прошлый раз в магазине есть эксперимент и обидно. он не будет разбрасывать свою проблему. всегда \n",
      "Тупой подумал Штирлиц, рассматривая угол.| что такое середина и высоко сидит на диване, то она в детстве запрещает деньги в секс-шопе. он любит не слово, как его было соседи. На следующем го\n",
      "Тупой подумал Штирлиц, рассматривая угол.| Вот у них красивые шапки не начали, что я ему не открываю себе слово. подходит на него и говорит- Я вчера в нее не пойду, а теперь стоит и собрал ка\n",
      "\n",
      "----------------------------------------------------------------------------------------------------\n",
      "\n",
      "Сегодня сделала доброе дело! Гуляла утром со своим питбулем. Смотрю, мужчина к остановке бежит. Ну, я собаку с поводка спустила. Успел таки мужчина на автобус...\n",
      "\n",
      "Сегодня сделала доброе дело! Гуляла| на следующем своих фигурах и понял, что и не заметила от него. вот и есть полиция. у них родилась на этом размере секса с полицейского. тот другом\n",
      "Сегодня сделала доброе дело! Гуляла| бы на день рождения на выборы про забудительное на улице. Пока не собирайтесь в банане. вас не заметили Вам можно застрелить на день рождения... сы\n",
      "Сегодня сделала доброе дело! Гуляла| про интернет. принесли стоящий смотрел на автомобилях продуктов и не смотрит. У него меня в другой раз постоянно разрешил на меня понять, что на маш\n",
      "Сегодня сделала доброе дело! Гуляла| на прикольном комнате и стоит в отпуск при будущем и подарил его в России. предложил у него собака в работе. Довольно у нее проголосовать в одном ма\n",
      "Сегодня сделала доброе дело! Гуляла| на причину, и мне не отвечает- Ты че потом?- Да нет.- А что ты умеешь?- Не хочу. А кто тебе не смог уметь заказать объявление о своей команде... пот\n",
      "Сегодня сделала доброе дело! Гуляла| с моими друзьями. я сам сделал корову и убираю будущее. придумал в одном народе он в конце размера постоянно закрывает под своей комнатой и отвечае\n",
      "Сегодня сделала доброе дело! Гуляла| со словами. Я могу умного и все подумали - это не безопасное народ. когда на столе были службы - у нее нет ни одной женщины. так и подумали, что он\n",
      "Сегодня сделала доброе дело! Гуляла| в своей стране, а не за мной все это за ним приехали в одном доме, а то я хочу признаться и раз просто не получится. тот пока не был в таком человек\n",
      "Сегодня сделала доброе дело! Гуляла| мне в полицию. Зато там случайно получилось об этом. вот и она построила ее на себя. потом все время встала в тот фигура, а вот в общем, как по лес\n",
      "Сегодня сделала доброе дело! Гуляла| сегодня на выборы у нас в горло. А я уже не знаю, что они не забывают все только одна женщина, и как бы она будет мужа. отстрела обратилась в подруг\n",
      "\n",
      "----------------------------------------------------------------------------------------------------\n",
      "\n",
      "Алкоголь в малых дозах безвреден даже в больших количествах.\n",
      "\n",
      "Алкоголь в малых дозах безвреден|ного возраста в Париже на свадьбу работает по закону и взял только один красивый автомобиль. девушка в комнате крокодилов противопола не поверила. Не\n",
      "Алкоголь в малых дозах безвреден|ного опыта предложили подумать другая мужская забудка. думаю, что она была в семье по качеству полиции. как у нее даже просто получается без тебя и \n",
      "Алкоголь в малых дозах безвреден|но продавал одновременно, чтобы он начал прикалать все слова. по телефону не видели это и выпивает жену. вот секс у вас в классе предупреждает кто о\n",
      "Алкоголь в малых дозах безвреден|ный мужик получил на свет, спрашивает у другого- Что у тебя представителей в стране?- Ну, ты слышала я все столько лет свободной. вот они не выпускаю\n",
      "Алкоголь в малых дозах безвреден|ный деревне по телефону- А может быть, так можно сказать о вашем стране?- Нет, дорогая, ты можешь не победить и ты бы сделал? теперь будет говорить в\n",
      "Алкоголь в малых дозах безвреден|ных ученых и уже и сказали, что в ней все начинает понять не страшно. я сейчас признался, что я люблю и не получится. когда он не понял, что в два в\n",
      "Алкоголь в малых дозах безвреден|ности лежали разные подруги. На одну страну не хватает реклама. когда он будет выдержать такое не подумать, что поставили своим полицейским по бабам \n",
      "Алкоголь в малых дозах безвреден|ных танцует в руках в комнате на острова и спрашивают- А что такое портрет?- Просто секс возьми домой. Сейчас на двери они подозревали, что он собирае\n",
      "Алкоголь в малых дозах безвреден|ной колбасы постоянно поднял по белье на парке. он становится обратно через него в стране после секса и виноватов подряд на колени. странно, а то ес\n",
      "Алкоголь в малых дозах безвреден|но по завтрашнему написанию мальчика собирается должно быть обедать на водку. тот же проблемы будет отказаться от нас не надо. они так открывают у р\n",
      "\n",
      "----------------------------------------------------------------------------------------------------\n",
      "\n",
      "Встречаются два старых еврея- Ой, вей!- И ты мне будешь рассказывать!\n",
      "\n"
     ]
    },
    {
     "name": "stdout",
     "output_type": "stream",
     "text": [
      "Встречаются два старых еврея- Ой,| давай по себя со своей женой я совсем не пойму?- Какая проблема.- И что же ты делаешь?- Да ничего не спасла. не в полной комнате объясняет- Ты зачем\n",
      "Встречаются два старых еврея- Ой,| я не удалась в семейном статье и не традиционный сад, так вот такой грустный человек, а как ты придешь в полицию?- Нет, сколько детей - не только пол\n",
      "Встречаются два старых еврея- Ой,| давай порядочный.- А ты что, у меня вы принести три раза с какой-то сразу?- Не знаю, я победил по большому, и ты как будто знаешь, она такая победила\n",
      "Встречаются два старых еврея- Ой,| помогите, я буду прийти на крыше комар и после этого не слышу, а ведь ты не проверяешь и за собой не выбрать! на стене девушку спрашивает- Ты чего т\n",
      "Встречаются два старых еврея- Ой,| сынок, а как ты стоял с моими водками?- Да нет, я тебя не до него не приклеил. не люблю его мамой с покое на полчаса в гости. Собирая самолет и расс\n",
      "Встречаются два старых еврея- Ой,| я пришел в телевизор!- Да нет, доктор, я с тобой всегда вывести такое утро... потом она поддерживает без возможности- Я такой принц. Сегодня у меня \n",
      "Встречаются два старых еврея- Ой,| а как вы случились?- Я ему не говорила, что он просто собирается при нем никогда не пришла в театр. вдруг при спрашивает- Ты что сказал?- Нет, но не\n",
      "Встречаются два старых еврея- Ой,| это должна быть, я в твоей стороне такой сильный подвиг отказался.- А что с ней сделать?- Пришел в обратной стороне... мужик не могу увидеть всех бо\n",
      "Встречаются два старых еврея- Ой,| доктор, мне сказала тебе такое слово с моими женами?- Нет, ты не переживаешь ли он на полчаса и ушла с тобой на корову и не поняла.- Слушай. Мне посм\n",
      "Встречаются два старых еврея- Ой,| дорогая, почему ты не надо объяснить, что будет парашют?- У меня красивая света.- Не победила мне собаки, которые сказали, что вы получаетесь?- Да не\n",
      "\n",
      "----------------------------------------------------------------------------------------------------\n",
      "\n"
     ]
    }
   ],
   "source": [
    "for idx in [10, 660, 1309, 52016, 71034]:\n",
    "    print(aneks[idx])\n",
    "    print()\n",
    "    gen_continuation(model, prefix=' '.join(aneks[idx].split()[:5]), temperature=0.5)\n",
    "    print()\n",
    "    print('-' * 100)\n",
    "    print()"
   ]
  },
  {
   "cell_type": "code",
   "execution_count": null,
   "metadata": {},
   "outputs": [],
   "source": []
  },
  {
   "cell_type": "code",
   "execution_count": null,
   "metadata": {},
   "outputs": [],
   "source": []
  }
 ],
 "metadata": {
  "kernelspec": {
   "display_name": "Python 3 (ipykernel)",
   "language": "python",
   "name": "python3"
  },
  "language_info": {
   "codemirror_mode": {
    "name": "ipython",
    "version": 3
   },
   "file_extension": ".py",
   "mimetype": "text/x-python",
   "name": "python",
   "nbconvert_exporter": "python",
   "pygments_lexer": "ipython3",
   "version": "3.10.9"
  },
  "notebookId": "bc2f3635-a5e7-4581-b93b-0f3e38e3a3be",
  "notebookPath": "9/Lecture_9_Intro_to_DL.ipynb",
  "toc": {
   "base_numbering": 1,
   "nav_menu": {},
   "number_sections": true,
   "sideBar": true,
   "skip_h1_title": false,
   "title_cell": "Table of Contents",
   "title_sidebar": "Contents",
   "toc_cell": false,
   "toc_position": {},
   "toc_section_display": true,
   "toc_window_display": true
  }
 },
 "nbformat": 4,
 "nbformat_minor": 4
}
